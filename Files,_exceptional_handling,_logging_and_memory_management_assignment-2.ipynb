{
  "nbformat": 4,
  "nbformat_minor": 0,
  "metadata": {
    "colab": {
      "provenance": []
    },
    "kernelspec": {
      "name": "python3",
      "display_name": "Python 3"
    },
    "language_info": {
      "name": "python"
    }
  },
  "cells": [
    {
      "cell_type": "markdown",
      "source": [
        "#Theory Questions\n"
      ],
      "metadata": {
        "id": "veIy7eDUZ_Nj"
      }
    },
    {
      "cell_type": "markdown",
      "source": [
        "\n",
        "Q1: What is the difference between interpreted and compiled languages?\n",
        "\n",
        "Answer: Interpreted Languages: These languages are executed line by line by an interpreter. Examples include Python, JavaScript, and Ruby. They are generally easier to debug and modify.\n",
        "\n",
        "Compiled Languages: These languages are converted into machine code by a compiler before execution. Examples include C, C++, and Java (though Java is semi-compiled). They tend to run faster than interpreted languages.\n"
      ],
      "metadata": {
        "id": "N7OJTKJQaE1E"
      }
    },
    {
      "cell_type": "markdown",
      "source": [
        "Q2:  What is exception handling in Python?\n",
        "\n",
        "Answer: Exception handling in Python allows you to handle runtime errors gracefully. It involves using try, except, else, and finally blocks to manage exceptions."
      ],
      "metadata": {
        "id": "bbC3oDR9bMlP"
      }
    },
    {
      "cell_type": "markdown",
      "source": [
        "Q3: What is the purpose of the finally block in exception handling?\n",
        "\n",
        "Answer: The finally block is used to execute code that should run regardless of whether an exception occurred. It is often used for cleanup activities, such as closing files or releasing resources.\n"
      ],
      "metadata": {
        "id": "h7lpFDe9bWIW"
      }
    },
    {
      "cell_type": "markdown",
      "source": [
        "Q4: What is logging in Python?\n",
        "\n",
        "Answer: Logging in Python is a way to track events that happen during the execution of a program. It is useful for debugging, monitoring, and auditing. The logging module provides a flexible framework for emitting log messages from Python programs.\n"
      ],
      "metadata": {
        "id": "oi_aeHJrbe80"
      }
    },
    {
      "cell_type": "markdown",
      "source": [
        "Q5: What is the significance of the __del__ method in Python?\n",
        "\n",
        "Answer: The __del__ method is a destructor method in Python. It is called when an object is about to be destroyed. It is used for cleanup activities, such as closing files or releasing resources."
      ],
      "metadata": {
        "id": "kkCXNcAYb5D3"
      }
    },
    {
      "cell_type": "markdown",
      "source": [
        "Q6: What is the difference between import and from ... import in Python?\n",
        "\n",
        "Answer: import module_name: Imports the entire module and requires you to use the module name to access its attributes.\n",
        "\n",
        "from module_name import attribute: Imports a specific attribute from the module, allowing you to use it directly without the module name."
      ],
      "metadata": {
        "id": "N1l2KGjbcF1o"
      }
    },
    {
      "cell_type": "markdown",
      "source": [
        "Q7: How can you handle multiple exceptions in Python?\n",
        "\n",
        "Answer: You can handle multiple exceptions by listing them in a tuple or by using multiple except blocks."
      ],
      "metadata": {
        "id": "EGCXy8IjcVo0"
      }
    },
    {
      "cell_type": "markdown",
      "source": [
        "Q8: What is the purpose of the with statement when handling files in Python?\n",
        "\n",
        "Answer: The with statement ensures that resources are properly managed. It automatically handles opening and closing files, even if an exception occurs."
      ],
      "metadata": {
        "id": "VD1Q7MLPciLw"
      }
    },
    {
      "cell_type": "markdown",
      "source": [
        "Q9: What is the difference between multithreading and multiprocessing?\n",
        "\n",
        "Answer: Multithreading: Multiple threads run within the same process, sharing the same memory space. It is useful for I/O-bound tasks.\n",
        "\n",
        "Multiprocessing: Multiple processes run independently, each with its own memory space. It is useful for CPU-bound tasks."
      ],
      "metadata": {
        "id": "dDXTPjOImdQz"
      }
    },
    {
      "cell_type": "markdown",
      "source": [
        "Q10: What are the advantages of using logging in a program?\n",
        "\n",
        "Answer: Logging provides a way to track events, debug issues, and monitor the behavior of the program. It helps in maintaining a history of events and can be configured to different levels of severity."
      ],
      "metadata": {
        "id": "Wh5rj8ZFoM_z"
      }
    },
    {
      "cell_type": "markdown",
      "source": [
        "Q11: What is memory management in Python?\n",
        "\n",
        "Answer: Memory management in Python involves allocating and deallocating memory for objects. Python uses a garbage collector to automatically reclaim memory from objects that are no longer in use."
      ],
      "metadata": {
        "id": "93WIzqBsoUL4"
      }
    },
    {
      "cell_type": "markdown",
      "source": [
        "Q12: What are the basic steps involved in exception handling in Python?\n",
        "\n",
        "Answer: The basic steps are:\n",
        "1. Use a try block to enclose the code that might raise an exception.\n",
        "2. Use one or more except blocks to handle specific exceptions.\n",
        "3. Optionally, use an else block to run code if no exceptions occur.\n",
        "4. Optionally, use a finally block to run cleanup code regardless of whether an exception occurred."
      ],
      "metadata": {
        "id": "0_eTmSR0oaoy"
      }
    },
    {
      "cell_type": "markdown",
      "source": [
        "Q13: Why is memory management important in Python?\n",
        "\n",
        "Answer: Memory management is important to ensure efficient use of system resources, prevent memory leaks, and maintain the performance of the program."
      ],
      "metadata": {
        "id": "uAykGc9wol78"
      }
    },
    {
      "cell_type": "markdown",
      "source": [
        "Q14: What is the role of try and except in exception handling?\n",
        "\n",
        "Answer: The try block contains the code that might raise an exception. The except block contains the code to handle the exception if it occurs."
      ],
      "metadata": {
        "id": "wqleBgqFowDr"
      }
    },
    {
      "cell_type": "markdown",
      "source": [
        "Q15: How does Python's garbage collection system work?\n",
        "\n",
        "Answer: Python uses a combination of reference counting and a cyclic garbage collector. Reference counting automatically deallocates objects when their reference count drops to zero. The cyclic garbage collector handles objects that are part of reference cycles."
      ],
      "metadata": {
        "id": "ttsmM7m1o2mE"
      }
    },
    {
      "cell_type": "markdown",
      "source": [
        "Q16: What is the purpose of the else block in exception handling?\n",
        "\n",
        "Answer: The else block runs if the try block does not raise an exception. It is useful for code that should only run if no exceptions occurred."
      ],
      "metadata": {
        "id": "p98S-cjvpD1i"
      }
    },
    {
      "cell_type": "markdown",
      "source": [
        "Q17: What are the common logging levels in Python?\n",
        "\n",
        "Answer: The common logging levels are:\n",
        "1. DEBUG: Detailed information, typically of interest only when diagnosing problems.\n",
        "2. INFO: Confirmation that things are working as expected.\n",
        "3. WARNING: An indication that something unexpected happened, or indicative of some problem in the near future.\n",
        "4. ERROR: Due to a more serious problem, the software has not been able to perform some function.\n",
        "5. CRITICAL: A serious error, indicating that the program itself may be unable to continue running."
      ],
      "metadata": {
        "id": "5FZA3016pPps"
      }
    },
    {
      "cell_type": "markdown",
      "source": [
        "Q18: What is the difference between os.fork() and multiprocessing in Python?\n",
        "\n",
        "Answer: os.fork() is a Unix-specific system call that creates a new process by duplicating the calling process. Multiprocessing in Python is a higher-level module that provides a way to create and manage multiple processes in a cross-platform manner."
      ],
      "metadata": {
        "id": "VKhXHFUOpa_y"
      }
    },
    {
      "cell_type": "markdown",
      "source": [
        "Q19: What is the importance of closing a file in Python?\n",
        "\n",
        "Answer: Closing a file ensures that system resources are freed and any buffered data is written to the file. It is important to close files to avoid resource leaks and data corruption."
      ],
      "metadata": {
        "id": "s6plqlZ1piuj"
      }
    },
    {
      "cell_type": "markdown",
      "source": [
        "Q20: What is the difference between file.read() and file.readline() in Python?\n",
        "\n",
        "Answer: file.read() reads the entire content of the file as a single string.\n",
        "file.readline() reads a single line from the file."
      ],
      "metadata": {
        "id": "DYkHo9xyppoX"
      }
    },
    {
      "cell_type": "markdown",
      "source": [
        "Q21: What is the logging module in Python used for?\n",
        "\n",
        "Answer: The logging module is used for tracking events that happen during the execution of a program. It provides a flexible framework for emitting log messages from Python programs."
      ],
      "metadata": {
        "id": "CRH-u0NZpwnj"
      }
    },
    {
      "cell_type": "markdown",
      "source": [
        "Q22: What is the os module in Python used for in file handling?\n",
        "\n",
        "Answer: The os module provides a way to interact with the operating system. It includes functions for file and directory operations, such as creating, deleting, and renaming files and directories."
      ],
      "metadata": {
        "id": "vRpAnyy9p31q"
      }
    },
    {
      "cell_type": "markdown",
      "source": [
        "Q23: What are the challenges associated with memory management in Python?\n",
        "\n",
        "Answer: Challenges include managing memory efficiently, avoiding memory leaks, and ensuring that the garbage collector performs optimally. Memory management can also be complex due to the dynamic nature of Python."
      ],
      "metadata": {
        "id": "SZm8HwazqR6o"
      }
    },
    {
      "cell_type": "markdown",
      "source": [
        "Q24: How do you raise an exception manually in Python?\n",
        "\n",
        "Answer: You can raise an exception manually using the raise statement.\n",
        "\n",
        "raise ValueError(\"Invalid value\")"
      ],
      "metadata": {
        "id": "gKJAUZFtqbMa"
      }
    },
    {
      "cell_type": "markdown",
      "source": [
        "Q25: Why is it important to use multithreading in certain applications?\n",
        "\n",
        "Answer: Multithreading is important for improving the performance of I/O-bound tasks, such as network operations or file I/O. It allows the program to perform multiple tasks concurrently, making it more responsive and efficient."
      ],
      "metadata": {
        "id": "THprFaFLqv5C"
      }
    },
    {
      "cell_type": "markdown",
      "source": [
        "#Practical Questions"
      ],
      "metadata": {
        "id": "xHcb1zONrCXz"
      }
    },
    {
      "cell_type": "code",
      "source": [
        "#Q1: How can you open a file for writing in Python and write a string to it?\n",
        "with open('example.txt', 'w') as file:\n",
        "    file.write('Hello, world!')"
      ],
      "metadata": {
        "id": "M0v3SxTwrFkj"
      },
      "execution_count": null,
      "outputs": []
    },
    {
      "cell_type": "code",
      "source": [
        "#Q2: Write a Python program to read the contents of a file and print each line.\n",
        "with open('example.txt', 'r') as file:\n",
        "    for line in file:\n",
        "        print(line.strip())"
      ],
      "metadata": {
        "colab": {
          "base_uri": "https://localhost:8080/"
        },
        "id": "Q-NQASI-rPc3",
        "outputId": "0f24713c-8341-4dad-f1e6-2403409afb51"
      },
      "execution_count": null,
      "outputs": [
        {
          "output_type": "stream",
          "name": "stdout",
          "text": [
            "Hello, world!\n"
          ]
        }
      ]
    },
    {
      "cell_type": "code",
      "source": [
        "#Q3: How would you handle a case where the file doesn't exist while trying to open it for reading?\n",
        "try:\n",
        "    with open('nonexistentfile.txt', 'r') as file:\n",
        "        content = file.read()\n",
        "except FileNotFoundError:\n",
        "    print(\"The file does not exist.\")"
      ],
      "metadata": {
        "colab": {
          "base_uri": "https://localhost:8080/"
        },
        "id": "R_BQsoTtrgBW",
        "outputId": "87d815df-d96d-476c-a9a6-e88c6ef3698c"
      },
      "execution_count": null,
      "outputs": [
        {
          "output_type": "stream",
          "name": "stdout",
          "text": [
            "The file does not exist.\n"
          ]
        }
      ]
    },
    {
      "cell_type": "code",
      "source": [
        "#Q4: Write a Python script that reads from one file and writes its content to another file.\n",
        "with open('example.txt', 'r') as source_file:\n",
        "    content = source_file.read()\n",
        "\n",
        "with open('destination.txt', 'w') as destination_file:\n",
        "    destination_file.write(content)"
      ],
      "metadata": {
        "id": "ciUp-Q4vro14"
      },
      "execution_count": null,
      "outputs": []
    },
    {
      "cell_type": "code",
      "source": [
        "#Q5: How would you catch and handle division by zero error in Python?\n",
        "try:\n",
        "    result = 10 / 0\n",
        "except ZeroDivisionError:\n",
        "    print(\"Error: Division by zero is not allowed.\")"
      ],
      "metadata": {
        "colab": {
          "base_uri": "https://localhost:8080/"
        },
        "id": "P4nuGCC_rzAt",
        "outputId": "a4e37bc2-26b1-4684-f44c-ad2586d26a79"
      },
      "execution_count": null,
      "outputs": [
        {
          "output_type": "stream",
          "name": "stdout",
          "text": [
            "Error: Division by zero is not allowed.\n"
          ]
        }
      ]
    },
    {
      "cell_type": "code",
      "source": [
        "#Q6: Write a Python program that logs an error message to a log file when a division by zero exception occurs.\n",
        "import logging\n",
        "\n",
        "logging.basicConfig(filename='error.log', level=logging.ERROR)\n",
        "\n",
        "try:\n",
        "    result = 10 / 0\n",
        "except ZeroDivisionError:\n",
        "    logging.error(\"Division by zero error occurred.\")"
      ],
      "metadata": {
        "colab": {
          "base_uri": "https://localhost:8080/"
        },
        "id": "ARLxYQN9sNda",
        "outputId": "7c1d059a-087e-4171-f1a2-2d924c0cf6eb"
      },
      "execution_count": null,
      "outputs": [
        {
          "output_type": "stream",
          "name": "stderr",
          "text": [
            "ERROR:root:Division by zero error occurred.\n"
          ]
        }
      ]
    },
    {
      "cell_type": "code",
      "source": [
        "#Q7: How do you log information at different levels (INFO, ERROR, WARNING) in Python using the logging module?\n",
        "import logging\n",
        "\n",
        "logging.basicConfig(level=logging.DEBUG, filename='app.log', filemode='w',\n",
        "                    format='%(name)s - %(levelname)s - %(message)s')\n",
        "\n",
        "logging.info('This is an info message')\n",
        "logging.warning('This is a warning message')\n",
        "logging.error('This is an error message')"
      ],
      "metadata": {
        "colab": {
          "base_uri": "https://localhost:8080/"
        },
        "id": "-Bkg8PxOsTlo",
        "outputId": "fcdbf3b2-cb32-4879-a918-b66e8544cb92"
      },
      "execution_count": null,
      "outputs": [
        {
          "output_type": "stream",
          "name": "stderr",
          "text": [
            "WARNING:root:This is a warning message\n",
            "ERROR:root:This is an error message\n"
          ]
        }
      ]
    },
    {
      "cell_type": "code",
      "source": [
        "#Q8: Write a program to handle a file opening error using exception handling.\n",
        "try:\n",
        "    with open('nonexistentfile.txt', 'r') as file:\n",
        "        content = file.read()\n",
        "except FileNotFoundError:\n",
        "    print(\"The file does not exist.\")"
      ],
      "metadata": {
        "colab": {
          "base_uri": "https://localhost:8080/"
        },
        "id": "LpvA09q5tb0v",
        "outputId": "0efd4d20-8eee-49ed-c050-f66fd7e7ff6b"
      },
      "execution_count": null,
      "outputs": [
        {
          "output_type": "stream",
          "name": "stdout",
          "text": [
            "The file does not exist.\n"
          ]
        }
      ]
    },
    {
      "cell_type": "code",
      "source": [
        "#Q9: How can you read a file line by line and store its content in a list in Python?\n",
        "with open('example.txt', 'r') as file:\n",
        "    lines = file.readlines()\n",
        "\n",
        "lines = [line.strip() for line in lines]\n",
        "print(lines)"
      ],
      "metadata": {
        "colab": {
          "base_uri": "https://localhost:8080/"
        },
        "id": "4UZc88eUtiBH",
        "outputId": "b8864467-ca56-4e39-e8ae-56197e4a87e6"
      },
      "execution_count": null,
      "outputs": [
        {
          "output_type": "stream",
          "name": "stdout",
          "text": [
            "['Hello, world!']\n"
          ]
        }
      ]
    },
    {
      "cell_type": "code",
      "source": [
        "#Q10: How can you append data to an existing file in Python?\n",
        "with open('example.txt', 'a') as file:\n",
        "    file.write('\\nAppending new line.')"
      ],
      "metadata": {
        "id": "6LcJU0M1ttCd"
      },
      "execution_count": null,
      "outputs": []
    },
    {
      "cell_type": "code",
      "source": [
        "#Q11: Write a Python program that uses a try-except block to handle an error when attempting to access a dictionary key that doesn't exist.\n",
        "my_dict = {'key1': 'value1', 'key2': 'value2'}\n",
        "\n",
        "try:\n",
        "    print(my_dict['key3'])\n",
        "except KeyError:\n",
        "    print(\"Key does not exist in the dictionary.\")\n"
      ],
      "metadata": {
        "colab": {
          "base_uri": "https://localhost:8080/"
        },
        "id": "8ZLV0TWVtzIl",
        "outputId": "82e8a653-0ff2-46c3-bb99-ff8c5df223ab"
      },
      "execution_count": null,
      "outputs": [
        {
          "output_type": "stream",
          "name": "stdout",
          "text": [
            "Key does not exist in the dictionary.\n"
          ]
        }
      ]
    },
    {
      "cell_type": "code",
      "source": [
        "#Q12: Write a program that demonstrates using multiple except blocks to handle different types of exceptions.\n",
        "try:\n",
        "    result = 10 / 0\n",
        "    print(my_dict['key3'])\n",
        "except ZeroDivisionError:\n",
        "    print(\"Division by zero error.\")\n",
        "except KeyError:\n",
        "    print(\"Key does not exist in the dictionary.\")"
      ],
      "metadata": {
        "colab": {
          "base_uri": "https://localhost:8080/"
        },
        "id": "e2epmuaNt8L8",
        "outputId": "3ac1c2fd-619d-422e-810d-613908d0dc49"
      },
      "execution_count": null,
      "outputs": [
        {
          "output_type": "stream",
          "name": "stdout",
          "text": [
            "Division by zero error.\n"
          ]
        }
      ]
    },
    {
      "cell_type": "code",
      "source": [
        "#Q13: How would you check if a file exists before attempting to read it in Python?\n",
        "import os\n",
        "\n",
        "if os.path.exists('example.txt'):\n",
        "    with open('example.txt', 'r') as file:\n",
        "        content = file.read()\n",
        "        print(content)\n",
        "else:\n",
        "    print(\"The file does not exist.\")"
      ],
      "metadata": {
        "colab": {
          "base_uri": "https://localhost:8080/"
        },
        "id": "PtdhziJhuUy0",
        "outputId": "2ffdb181-0fdc-49c7-f4a3-6ece5b9978d3"
      },
      "execution_count": null,
      "outputs": [
        {
          "output_type": "stream",
          "name": "stdout",
          "text": [
            "Hello, world!\n",
            "Appending new line.\n"
          ]
        }
      ]
    },
    {
      "cell_type": "code",
      "source": [
        "#Q14: Write a program that uses the logging module to log both informational and error messages.\n",
        "import logging\n",
        "\n",
        "logging.basicConfig(level=logging.INFO, filename='app.log', filemode='w',\n",
        "                    format='%(name)s - %(levelname)s - %(message)s')\n",
        "\n",
        "logging.info('This is an info message')\n",
        "logging.error('This is an error message')"
      ],
      "metadata": {
        "colab": {
          "base_uri": "https://localhost:8080/"
        },
        "id": "XPcpLVXDudhU",
        "outputId": "cb7776d2-26b0-4433-f87b-ca03fc6614ce"
      },
      "execution_count": null,
      "outputs": [
        {
          "output_type": "stream",
          "name": "stderr",
          "text": [
            "ERROR:root:This is an error message\n"
          ]
        }
      ]
    },
    {
      "cell_type": "code",
      "source": [
        "#Q15: Write a Python program that prints the content of a file and handles the case when the file is empty.\n",
        "try:\n",
        "    with open('example.txt', 'r') as file:\n",
        "        content = file.read()\n",
        "        if not content.strip():\n",
        "            print(\"The file is empty.\")\n",
        "        else:\n",
        "            print(content)\n",
        "except FileNotFoundError:\n",
        "    print(\"The file does not exist.\")"
      ],
      "metadata": {
        "colab": {
          "base_uri": "https://localhost:8080/"
        },
        "id": "3I1M8w9KulIN",
        "outputId": "24f412fa-2bcd-4665-e2ff-8695a64d9ec4"
      },
      "execution_count": null,
      "outputs": [
        {
          "output_type": "stream",
          "name": "stdout",
          "text": [
            "Hello, world!\n",
            "Appending new line.\n"
          ]
        }
      ]
    },
    {
      "cell_type": "code",
      "source": [
        "#Q16: Demonstrate how to use memory profiling to check the memory usage of a small program.\n",
        "import tracemalloc\n",
        "\n",
        "tracemalloc.start()\n",
        "\n",
        "# Your code here\n",
        "my_list = [i for i in range(1000000)]\n",
        "\n",
        "current, peak = tracemalloc.get_traced_memory()\n",
        "print(f\"Current memory usage is {current / 10**6:.6f}MB; Peak was {peak / 10**6:.6f}MB\")\n",
        "\n",
        "tracemalloc.stop()"
      ],
      "metadata": {
        "colab": {
          "base_uri": "https://localhost:8080/"
        },
        "id": "EtPD5R9-uuzY",
        "outputId": "d835c76a-120f-4728-a0ef-9233be165c9e"
      },
      "execution_count": null,
      "outputs": [
        {
          "output_type": "stream",
          "name": "stdout",
          "text": [
            "Current memory usage is 40.463434MB; Peak was 40.474076MB\n"
          ]
        }
      ]
    },
    {
      "cell_type": "code",
      "source": [
        "#Q17: Write a Python program to create and write a list of numbers to a file, one number per line.\n",
        "numbers = [1, 2, 3, 4, 5]\n",
        "\n",
        "with open('numbers.txt', 'w') as file:\n",
        "    for number in numbers:\n",
        "        file.write(f\"{number}\\n\")"
      ],
      "metadata": {
        "id": "M2E5XanKvQOY"
      },
      "execution_count": null,
      "outputs": []
    },
    {
      "cell_type": "code",
      "source": [
        "#Q18: How would you implement a basic logging setup that logs to a file with rotation after 1MB?\n",
        "import logging\n",
        "from logging.handlers import RotatingFileHandler\n",
        "\n",
        "logger = logging.getLogger('my_logger')\n",
        "logger.setLevel(logging.INFO)\n",
        "\n",
        "handler = RotatingFileHandler('app.log', maxBytes=1*1024*1024, backupCount=3)\n",
        "logger.addHandler(handler)\n",
        "\n",
        "for i in range(10000):\n",
        "    logger.info(f'Log message number {i}')"
      ],
      "metadata": {
        "id": "E2Uzn16AvkSB"
      },
      "execution_count": null,
      "outputs": []
    },
    {
      "cell_type": "code",
      "source": [
        "#Q19: Write a program that handles both IndexError and KeyError using a try-except block.\n",
        "my_list = [1, 2, 3]\n",
        "my_dict = {'key1': 'value1'}\n",
        "\n",
        "try:\n",
        "    print(my_list[3])\n",
        "    print(my_dict['key2'])\n",
        "except IndexError:\n",
        "    print(\"Index out of range.\")\n",
        "except KeyError:\n",
        "    print(\"Key does not exist in the dictionary.\")"
      ],
      "metadata": {
        "colab": {
          "base_uri": "https://localhost:8080/"
        },
        "id": "1LyjPUXcv8LC",
        "outputId": "1b50734b-b3dd-4585-c912-0dee65642115"
      },
      "execution_count": null,
      "outputs": [
        {
          "output_type": "stream",
          "name": "stdout",
          "text": [
            "Index out of range.\n"
          ]
        }
      ]
    },
    {
      "cell_type": "code",
      "source": [
        "#Q20: How would you open a file and read its contents using a context manager in Python?\n",
        "with open('example.txt', 'r') as file:\n",
        "    content = file.read()\n",
        "    print(content)"
      ],
      "metadata": {
        "colab": {
          "base_uri": "https://localhost:8080/"
        },
        "id": "6uHohZLnwC3U",
        "outputId": "57d10347-a9d0-4515-daaf-be0de997f496"
      },
      "execution_count": null,
      "outputs": [
        {
          "output_type": "stream",
          "name": "stdout",
          "text": [
            "Hello, world!\n",
            "Appending new line.\n"
          ]
        }
      ]
    },
    {
      "cell_type": "code",
      "source": [
        "#Q21: Write a Python program that reads a file and prints the number of occurrences of a specific word.\n",
        "word = 'example'\n",
        "count = 0\n",
        "\n",
        "with open('example.txt', 'r') as file:\n",
        "    for line in file:\n",
        "        count += line.count(word)\n",
        "\n",
        "print(f\"The word '{word}' appears {count} times in the file.\")"
      ],
      "metadata": {
        "colab": {
          "base_uri": "https://localhost:8080/"
        },
        "id": "GmtDHH0pwKFT",
        "outputId": "ed7d7a32-d703-4656-cf01-cc04a4dd4533"
      },
      "execution_count": null,
      "outputs": [
        {
          "output_type": "stream",
          "name": "stdout",
          "text": [
            "The word 'example' appears 0 times in the file.\n"
          ]
        }
      ]
    },
    {
      "cell_type": "code",
      "source": [
        "#Q22: How can you check if a file is empty before attempting to read its contents?\n",
        "import os\n",
        "\n",
        "if os.path.exists('example.txt') and os.path.getsize('example.txt') > 0:\n",
        "    with open('example.txt', 'r') as file:\n",
        "        content = file.read()\n",
        "        print(content)\n",
        "else:\n",
        "    print(\"The file is empty or does not exist.\")"
      ],
      "metadata": {
        "colab": {
          "base_uri": "https://localhost:8080/"
        },
        "id": "eV7czM68wWTc",
        "outputId": "2180ce0f-eb13-4d82-d459-5447cea16caa"
      },
      "execution_count": null,
      "outputs": [
        {
          "output_type": "stream",
          "name": "stdout",
          "text": [
            "Hello, world!\n",
            "Appending new line.\n"
          ]
        }
      ]
    },
    {
      "cell_type": "code",
      "source": [
        "#Q23: Write a Python program that writes to a log file when an error occurs during file handling.\n",
        "import logging\n",
        "\n",
        "logging.basicConfig(filename='error.log', level=logging.ERROR)\n",
        "\n",
        "try:\n",
        "    with open('nonexistentfile.txt', 'r') as file:\n",
        "        content = file.read()\n",
        "except FileNotFoundError:\n",
        "    logging.error(\"File not found error occurred.\")"
      ],
      "metadata": {
        "colab": {
          "base_uri": "https://localhost:8080/"
        },
        "id": "aoczl2jAwcTv",
        "outputId": "878a1c0e-5c9a-4bac-ca1d-f1249f6ca839"
      },
      "execution_count": null,
      "outputs": [
        {
          "output_type": "stream",
          "name": "stderr",
          "text": [
            "ERROR:root:File not found error occurred.\n"
          ]
        }
      ]
    },
    {
      "cell_type": "markdown",
      "source": [
        "#End of assignment"
      ],
      "metadata": {
        "id": "9ntP4es-wmkX"
      }
    }
  ]
}